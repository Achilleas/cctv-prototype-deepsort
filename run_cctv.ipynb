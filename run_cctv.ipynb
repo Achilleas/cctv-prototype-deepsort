{
 "cells": [
  {
   "cell_type": "code",
   "execution_count": null,
   "metadata": {},
   "outputs": [],
   "source": [
    "#Step 1: start redis server\n",
    "#Step 2: start visualization app (run_app.py)\n",
    "#Step 3: run_cctv\n",
    "\n",
    "import os\n",
    "import cv2\n",
    "import time\n",
    "import argparse\n",
    "import torch\n",
    "import numpy as np\n",
    "from deep_sort_pytorch.utils.parser import get_config\n",
    "from deep_sort_pytorch.VideoTracker import VideoTracker\n",
    "from deep_sort_pytorch.Namespace import Namespace\n",
    "\n",
    "args = Namespace(VIDEO_PATH='videos/session6_right.mp4',\n",
    "                config_deepsort='deep_sort_pytorch/configs/deep_sort.yaml',\n",
    "                config_detection='deep_sort_pytorch/configs/yolov3.yaml',\n",
    "                save_path='predictions/predict.avi',\n",
    "                display=False, #didn't make this work for jupyter\n",
    "                video_id=3,\n",
    "                frame_interval=3 ,\n",
    "                display_height=600,\n",
    "                display_width=800,\n",
    "                use_cuda = True)\n",
    "\n",
    "cfg = get_config()\n",
    "cfg.merge_from_file(args.config_detection)\n",
    "cfg.merge_from_file(args.config_deepsort)\n",
    "\n",
    "print(args)\n",
    "print(cfg)\n",
    "with VideoTracker(cfg, args) as vdo_trk:\n",
    "    vdo_trk.run()"
   ]
  }
 ],
 "metadata": {
  "kernelspec": {
   "display_name": "Python 3",
   "language": "python",
   "name": "python3"
  },
  "language_info": {
   "codemirror_mode": {
    "name": "ipython",
    "version": 3
   },
   "file_extension": ".py",
   "mimetype": "text/x-python",
   "name": "python",
   "nbconvert_exporter": "python",
   "pygments_lexer": "ipython3",
   "version": "3.7.0"
  }
 },
 "nbformat": 4,
 "nbformat_minor": 4
}
